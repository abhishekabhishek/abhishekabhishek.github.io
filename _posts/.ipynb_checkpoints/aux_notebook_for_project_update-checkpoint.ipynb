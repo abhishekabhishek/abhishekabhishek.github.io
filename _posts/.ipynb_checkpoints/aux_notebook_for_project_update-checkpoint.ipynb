{
 "cells": [
  {
   "cell_type": "markdown",
   "metadata": {},
   "source": [
    "---\n",
    "layout: post\n",
    "title: Project Update - October 22, 2018\n",
    "---\n",
    "\n",
    "\n",
    "## COMP 4520 - Project Update - October 22, 2018\n",
    "\n",
    "----\n",
    "### Table of contents\n",
    "\n",
    "#### 1. [Accomplished in the past 2 weeks](#accomplished_in_the_past_2_weeks)\n",
    "\n",
    "#### 2. [Objectives for the next 2 weeks](#objectives_for_the_next_2_weeks)\n",
    "----\n",
    "\n",
    "### Accomplished in the past 2 weeks<a id='accomplished_in_the_past_2_weeks'></a>\n",
    "\n",
    "> **1. Finished the research on Grover's Algorithm and implementations on IBM Q**\n",
    "\n",
    "**Grover's Algorithm Implementation Summary :**\n",
    "\n",
    "**a. Introduction**\n",
    "\n",
    "The algorithm belong to a general class of Quantum Search Algorithms and can be used to speed up searching in a unstructured database quadratically. The applications can be generalized to more than just searching unstructured databases since the algorithm uses a trick known as Quantum Amplitude Amplification which serves as a general basis to obtain quantum run-time improvements.\n",
    "        \n",
    "**b. Time-Complexity Analysis**\n",
    "   \n",
    "Searching an unsorted and unstructured list of N items can be easily shown to have a classical average run time of N/2 and worst-case time-complexity of O(N).\n",
    "        \n",
    "Using Grover's Algorithm and the Quantum Amplitude Amplification trick, the quantum implementaion can be shown\n",
    "to have a worst-case time-complexity of O(sqrt(N)).\n",
    "\n",
    "The algorithm is generic in the sense that it does not use the internal structure of the list to do the search and is therefore generalizable to other data structures.\n",
    "\n",
    "**c. Algorithm Details**\n",
    "\n",
    "i. In order to encode the list as an input to a Quantum circuit, we use a binary encoding such that \n",
    "\n"
   ]
  },
  {
   "cell_type": "code",
   "execution_count": null,
   "metadata": {},
   "outputs": [],
   "source": []
  }
 ],
 "metadata": {
  "kernelspec": {
   "display_name": "Python 3",
   "language": "python",
   "name": "python3"
  },
  "language_info": {
   "codemirror_mode": {
    "name": "ipython",
    "version": 3
   },
   "file_extension": ".py",
   "mimetype": "text/x-python",
   "name": "python",
   "nbconvert_exporter": "python",
   "pygments_lexer": "ipython3",
   "version": "3.6.6"
  }
 },
 "nbformat": 4,
 "nbformat_minor": 2
}
